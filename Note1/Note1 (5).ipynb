{
 "cells": [
  {
   "cell_type": "markdown",
   "metadata": {},
   "source": [
    "# Python, Numpy and Matrix Algebra: Brief Introduction"
   ]
  },
  {
   "cell_type": "markdown",
   "metadata": {},
   "source": [
    "(by Chenkuan Liu)"
   ]
  },
  {
   "cell_type": "markdown",
   "metadata": {},
   "source": [
    "### 1. Python"
   ]
  },
  {
   "cell_type": "markdown",
   "metadata": {},
   "source": [
    "Python is a programming language that is widely used today. Among all of its characteristics, there are two of them that make Python such a popular programming language."
   ]
  },
  {
   "cell_type": "markdown",
   "metadata": {},
   "source": [
    "1) Ease of coding\n",
    "\n",
    "Python is a high-level programming language that has done a lot of stuff automatically for you, so it becomes much easier and faster to write code in Python compared to other languages. Take the most common example, here is the first thing you would write when you learn a new programming language:"
   ]
  },
  {
   "cell_type": "code",
   "execution_count": 1,
   "metadata": {},
   "outputs": [
    {
     "name": "stdout",
     "output_type": "stream",
     "text": [
      "Hello World!\n"
     ]
    }
   ],
   "source": [
    "print(\"Hello World!\")"
   ]
  },
  {
   "cell_type": "markdown",
   "metadata": {},
   "source": [
    "Note that it only requires one line for Python to do this. In contrast, in other languages like C, C++, Java and others, it requires several lines to import appropriate interfaces or initialize public classes to do this. The ease of code writing makes Python popular."
   ]
  },
  {
   "cell_type": "markdown",
   "metadata": {},
   "source": [
    "2) Variety of packages"
   ]
  },
  {
   "cell_type": "markdown",
   "metadata": {},
   "source": [
    "Python contains numerous packages written by developers across the world that you can import from. These packages serve different purposes and they allow you to perform tasks in mathematics, statistics, electrical engineering, computer science, data science, software engineering, scientific computing, artificial intelligence, game development and many other fields. It is such diversity of available packages that makes Python stand out."
   ]
  },
  {
   "cell_type": "markdown",
   "metadata": {},
   "source": [
    "### 2. NumPy"
   ]
  },
  {
   "cell_type": "markdown",
   "metadata": {},
   "source": [
    "NumPy is one package in Python that specifically deals with vectors, matrices and multidimensional arrays. It is very useful in computational engineering and scientific computing. After installation, the typical way to import NumPy is:"
   ]
  },
  {
   "cell_type": "code",
   "execution_count": 2,
   "metadata": {},
   "outputs": [],
   "source": [
    "import numpy as np"
   ]
  },
  {
   "cell_type": "markdown",
   "metadata": {},
   "source": [
    "We normally use \"np\" for its abbreviation. Next, we will use its built-in fuctions to perform vector and matrix operations."
   ]
  },
  {
   "cell_type": "markdown",
   "metadata": {},
   "source": [
    "1) Creating Numpy Arrays"
   ]
  },
  {
   "cell_type": "markdown",
   "metadata": {},
   "source": [
    "Creating Numpy Array is simple. For instance, if you want to create a vector [2,4,6,8,10], then you just need to type:"
   ]
  },
  {
   "cell_type": "code",
   "execution_count": 3,
   "metadata": {},
   "outputs": [],
   "source": [
    "a = np.array([2,4,6,8,10])"
   ]
  },
  {
   "cell_type": "markdown",
   "metadata": {},
   "source": [
    "The np.array() command will take your input and return a numpy array. Specifically, you can print it out to check its value and its data type."
   ]
  },
  {
   "cell_type": "code",
   "execution_count": 4,
   "metadata": {},
   "outputs": [
    {
     "name": "stdout",
     "output_type": "stream",
     "text": [
      "[ 2  4  6  8 10]\n",
      "<class 'numpy.ndarray'>\n"
     ]
    }
   ],
   "source": [
    "print(a)\n",
    "print(type(a))"
   ]
  },
  {
   "cell_type": "markdown",
   "metadata": {},
   "source": [
    "We see that it belongs to the class 'numpy.ndarray'. Note that, if you have learned Python before, you might see that the initialization of numpy array is very similar to the creation of lists. But, they are in fact different data types. We can check it below:"
   ]
  },
  {
   "cell_type": "code",
   "execution_count": 5,
   "metadata": {},
   "outputs": [
    {
     "name": "stdout",
     "output_type": "stream",
     "text": [
      "[2, 4, 6, 8, 10]\n",
      "<class 'list'>\n"
     ]
    }
   ],
   "source": [
    "ls = [2,4,6,8,10]\n",
    "print(ls)\n",
    "print(type(ls))"
   ]
  },
  {
   "cell_type": "markdown",
   "metadata": {},
   "source": [
    "You can see that, though looks similar, the initialized \"ls\" here belongs to the class 'list'. It is important not to mix them up during your execution."
   ]
  },
  {
   "cell_type": "markdown",
   "metadata": {},
   "source": [
    "Similarly, creating a matrix simply means creating a multidimensional numpy array:"
   ]
  },
  {
   "cell_type": "code",
   "execution_count": 6,
   "metadata": {},
   "outputs": [
    {
     "name": "stdout",
     "output_type": "stream",
     "text": [
      "[[1 2 3]\n",
      " [4 5 6]\n",
      " [7 8 9]]\n"
     ]
    }
   ],
   "source": [
    "b = np.array([[1,2,3],\n",
    "              [4,5,6],\n",
    "              [7,8,9]])\n",
    "print(b)"
   ]
  },
  {
   "cell_type": "markdown",
   "metadata": {},
   "source": [
    "Note that you need extra square brackets and commas to create a matrix. The numpy operation of matrices will be discussed in the future."
   ]
  },
  {
   "cell_type": "markdown",
   "metadata": {},
   "source": [
    "2) Arithmetic operation"
   ]
  },
  {
   "cell_type": "markdown",
   "metadata": {},
   "source": [
    "NumPy has overwritten the common arithmetic operators. So, to add, substract, multiply, or divide arrays, you just need to use the \"+\", \"-\", \"\\*\", \"/\" operators (More will be discussed later regarding multiplications and divisions, which has some special maneuvering that needs to pay attention to).  "
   ]
  },
  {
   "cell_type": "markdown",
   "metadata": {},
   "source": [
    "For addition and substraction, let's look at some basic examples:"
   ]
  },
  {
   "cell_type": "code",
   "execution_count": 7,
   "metadata": {},
   "outputs": [
    {
     "name": "stdout",
     "output_type": "stream",
     "text": [
      "v_add: [3 6 9]\n",
      "v_sub: [-1 -2 -3]\n"
     ]
    }
   ],
   "source": [
    "v1 = np.array([1,2,3])\n",
    "v2 = np.array([2,4,6])\n",
    "v_add = v1 + v2\n",
    "v_sub = v1 - v2\n",
    "print(\"v_add:\", v_add)\n",
    "print(\"v_sub:\", v_sub)"
   ]
  },
  {
   "cell_type": "markdown",
   "metadata": {},
   "source": [
    "We see that plus and minus signs will automatically perform elementwise addition and substraction."
   ]
  },
  {
   "cell_type": "markdown",
   "metadata": {},
   "source": [
    "In addition, we use \"\\*\\*\" to calculate the elementwise power of a vector. (elementwise power is seldom used alone, so here is only for demonstration purpose)"
   ]
  },
  {
   "cell_type": "code",
   "execution_count": 8,
   "metadata": {},
   "outputs": [
    {
     "name": "stdout",
     "output_type": "stream",
     "text": [
      "v1_squre: [1 4 9]\n"
     ]
    }
   ],
   "source": [
    "v1_square = v1**2\n",
    "print(\"v1_squre:\", v1_square)"
   ]
  },
  {
   "cell_type": "markdown",
   "metadata": {},
   "source": [
    "Now, what if we multiply them or divide them?"
   ]
  },
  {
   "cell_type": "code",
   "execution_count": 9,
   "metadata": {},
   "outputs": [
    {
     "name": "stdout",
     "output_type": "stream",
     "text": [
      "[ 2  8 18]\n",
      "[0.5 0.5 0.5]\n"
     ]
    }
   ],
   "source": [
    "print(v1 * v2)\n",
    "print(v1 / v2)"
   ]
  },
  {
   "cell_type": "markdown",
   "metadata": {},
   "source": [
    "We see that multiplication and division are still performed elementwise. However, for most of the time, we are not interested in vector division. And, for multiplication, we are mostly interested in the inner product of two vectors rather than their elementwise multiplication. To do that, we will call an additional function: np.dot():"
   ]
  },
  {
   "cell_type": "code",
   "execution_count": 10,
   "metadata": {},
   "outputs": [
    {
     "name": "stdout",
     "output_type": "stream",
     "text": [
      "28\n"
     ]
    }
   ],
   "source": [
    "print(np.dot(v1, v2))"
   ]
  },
  {
   "cell_type": "markdown",
   "metadata": {},
   "source": [
    "we can observe that np.dot() takes two vectors as input and outputs a scalar which is their inner product."
   ]
  },
  {
   "cell_type": "markdown",
   "metadata": {},
   "source": [
    "3) Norm"
   ]
  },
  {
   "cell_type": "markdown",
   "metadata": {},
   "source": [
    "Norm is a concept that is widely used in mathematics and scitific computing. It can actually become very complex. But, without digging too much, we only consider the Euclidean norm at here (which is actually $L_2$ norm in formal speaking). A simple way to consider Euclidean norm of a vector is to view it as the distance from the vector to the origin. Specifically, taking an n-dimensional array\n",
    "\n",
    "$$\\textbf{v}=\\begin{bmatrix}\n",
    "           v_{1} \\\\\n",
    "           v_{2} \\\\\n",
    "           \\vdots \\\\\n",
    "           v_{n}\n",
    "         \\end{bmatrix},$$ "
   ]
  },
  {
   "cell_type": "markdown",
   "metadata": {},
   "source": [
    "its Euclidean norm is\n",
    "\n",
    "$$\\begin{equation}\\text{norm}\\textbf{(v)}=\\sqrt{\\sum\\limits_{1}^{n} v_{i}^{2}}=\\sqrt{v_{1}^{2} + v_{2}^{2} + \\cdots +v_{n}^{2}}\\end{equation}.$$\n",
    "\n",
    "$$\\sqrt{\\sum_{i=1}^{n} v_{i}^{2}} = \\sqrt{v_{1}^{2} + v_{2}^{2} + \\cdots +v_{n}^{2}}.$$\n",
    "$$\\sqrt{\\sum_{i=1}^{n} v_{i}^{2}}$$\n",
    "$$\\sqrt{v_{1}^{2} + v_{2}^{2} + \\cdots +v_{n}^{2}}.$$\n",
    "$$\\sqrt{v_{1}^{2}}$$"
   ]
  },
  {
   "cell_type": "markdown",
   "metadata": {},
   "source": [
    "$$\\begin{equation}\\text{norm}\\textbf{(v)}=\\sqrt{\\sum\\limits_{1}^{n} v_{i}^{2}}=\\sqrt{v_{1}^{2} + v_{2}^{2} + \\cdots +v_{n}^{2}}\\end{equation}.$$\n",
    "\n",
    "$$\\sqrt{\\sum_{i=1}^{n} v_{i}^{2}} = \\sqrt{v_{1}^{2} + v_{2}^{2} + \\cdots +v_{n}^{2}}.$$\n",
    "$$\\sqrt{\\sum_{i=1}^{n} v_{i}^{2}}$$\n",
    "$$\\sqrt{v_{1}^{2} + v_{2}^{2} + \\cdots +v_{n}^{2}}.$$\n",
    "$$\\sqrt{v_{1}^{2}}$$"
   ]
  },
  {
   "cell_type": "markdown",
   "metadata": {},
   "source": [
    "Though calculating a Euclidean norm takes several steps, in numpy, we can handle this in a single command:"
   ]
  },
  {
   "cell_type": "code",
   "execution_count": 11,
   "metadata": {},
   "outputs": [
    {
     "name": "stdout",
     "output_type": "stream",
     "text": [
      "13.0\n"
     ]
    }
   ],
   "source": [
    "v = [3,4,12]\n",
    "v_norm = np.linalg.norm(v)\n",
    "print(v_norm)"
   ]
  },
  {
   "cell_type": "markdown",
   "metadata": {},
   "source": [
    "You can check that this is the correct norm. Specifically, we use np.linalg.norm() function to compute its norm (\"linalg\" stands for linear algebra here)."
   ]
  },
  {
   "cell_type": "markdown",
   "metadata": {},
   "source": [
    "### 3. Bring it Together: a Toy Example"
   ]
  },
  {
   "cell_type": "markdown",
   "metadata": {},
   "source": [
    "The sections above only introduced basic commands and fuctions in numpy. However, with them at hand, we can already perform some interesting stuff and gain new perspectives from the knowledge of linear algebra."
   ]
  },
  {
   "cell_type": "markdown",
   "metadata": {},
   "source": [
    "<img src=\"cube.png\" style=\"width:400px;height:300px\"/>"
   ]
  },
  {
   "cell_type": "markdown",
   "metadata": {},
   "source": [
    "Take the cube above for example, suppose that the cude has side length 1. A high school geometry problem would ask that what is the degree of the angle $\\angle{FAG}$. The answer would be $60^\\circ$, since if you connect GF, AFG would form an equilateral triangle with side length $\\sqrt{2}$, which means that $\\angle{FAG} = 60^\\circ$."
   ]
  },
  {
   "cell_type": "markdown",
   "metadata": {},
   "source": [
    "But now, since you have started the journey of linear algebra, you can approach the problem in a more interesting way. You can put it in a 3D coordinate system, and it will look like this:"
   ]
  },
  {
   "cell_type": "markdown",
   "metadata": {},
   "source": [
    "<img src=\"cube2.png\" style=\"width:400px;height:300px\"/>"
   ]
  },
  {
   "cell_type": "markdown",
   "metadata": {},
   "source": [
    "After viewing it inside the coordinate system, we can get the coordinates of point A,F,G respectively, which are labeled above. Now, we can use the formula $$cos(\\theta) = \\frac{\\bf{v_1} \\cdot \\bf{v_2}}{\\Vert\\bf{v_1}\\Vert \\Vert\\bf{v_2}\\Vert}$$ to compute the angle between the two vectors $\\bf{v_1}$ and $\\bf{v_2}$, which are $\\overrightarrow{AF}$ and $\\overrightarrow{AG}$ respectively. "
   ]
  },
  {
   "cell_type": "markdown",
   "metadata": {},
   "source": [
    "To demonstrate the power of numpy, we can write a generalized function to compute the angle between any two vectors with what we have presented above:"
   ]
  },
  {
   "cell_type": "code",
   "execution_count": 14,
   "metadata": {},
   "outputs": [],
   "source": [
    "def get_angle(v1, v2):\n",
    "    \"\"\"\n",
    "    Arguments: \n",
    "    v1 -- the first input vector in numpy array\n",
    "    v2 -- the second input vector in numpy array\n",
    "    \n",
    "    Returns:\n",
    "    theta -- the degree of the angle between v1 and v2\n",
    "    \"\"\"\n",
    "    nominator = np.dot(v1,v2)    # compute nominator as above\n",
    "    denominator = np.linalg.norm(v1) * np.linalg.norm(v2)    # compute denominator as above\n",
    "    radian = np.arccos(nominator/denominator)    # divide and calculate theta,\n",
    "                                                 # note that np.arccos() returns radian value\n",
    "    theta = np.degrees(radian).round()    # convert into degree value and perform rounding\n",
    "    return theta"
   ]
  },
  {
   "cell_type": "markdown",
   "metadata": {},
   "source": [
    "Now let's try it out with the example above:"
   ]
  },
  {
   "cell_type": "code",
   "execution_count": 15,
   "metadata": {},
   "outputs": [
    {
     "name": "stdout",
     "output_type": "stream",
     "text": [
      "The degree between v1 and v2 is: 60.0\n"
     ]
    }
   ],
   "source": [
    "v1 = np.array([0,1,1])\n",
    "v2 = np.array([1,0,1])\n",
    "theta = get_angle(v1, v2)\n",
    "print(\"The degree between v1 and v2 is:\", theta)"
   ]
  },
  {
   "cell_type": "markdown",
   "metadata": {},
   "source": [
    "Now we see that with the knowledge of basic numpy commands and vector operations, we can compute the angle between any two vectors. Note that when the dimension of vectors gets larger than three, it would become hard to visualize geometrically, and that's when linear algebra kicks in and does the job :)"
   ]
  },
  {
   "cell_type": "markdown",
   "metadata": {},
   "source": [
    "### Extras"
   ]
  },
  {
   "cell_type": "markdown",
   "metadata": {},
   "source": [
    "- The official website of Numpy is https://numpy.org/. You can search for a lot of numpy functions and their descriptions over there.\n",
    "- There are many tutorials to get into Jupyter notebook, the one I find that might be helpful is on https://www.dataquest.io/blog/jupyter-notebook-tutorial/.\n",
    "- There is also a book called Matrix Cookbook, which is available [online](https://www.math.uwaterloo.ca/~hwolkowi/matrixcookbook.pdf). It is more like a dictionary of matrix operations that you can refer to. Some of the materials inside are covered in our lecture, but most of them are beyond the scope of this class. If you are interested, you can have a look of it."
   ]
  }
 ],
 "metadata": {
  "kernelspec": {
   "display_name": "Python 3",
   "language": "python",
   "name": "python3"
  },
  "language_info": {
   "codemirror_mode": {
    "name": "ipython",
    "version": 3
   },
   "file_extension": ".py",
   "mimetype": "text/x-python",
   "name": "python",
   "nbconvert_exporter": "python",
   "pygments_lexer": "ipython3",
   "version": "3.8.3"
  }
 },
 "nbformat": 4,
 "nbformat_minor": 4
}
